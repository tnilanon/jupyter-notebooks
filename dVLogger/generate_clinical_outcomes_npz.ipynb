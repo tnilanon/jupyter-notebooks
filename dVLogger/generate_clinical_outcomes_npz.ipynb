{
 "cells": [
  {
   "cell_type": "code",
   "execution_count": null,
   "metadata": {},
   "outputs": [],
   "source": [
    "import os\n",
    "import sys\n",
    "import platform\n",
    "\n",
    "import pandas as pd\n",
    "\n",
    "import numpy as np\n",
    "\n",
    "import matplotlib.pyplot as plt\n",
    "%matplotlib inline"
   ]
  },
  {
   "cell_type": "code",
   "execution_count": null,
   "metadata": {},
   "outputs": [],
   "source": [
    "system_name = platform.system()\n",
    "if system_name == 'Linux':\n",
    "    github_dir = '/home/gor/codes/dVLogger-Project'\n",
    "elif system_name == 'Darwin':\n",
    "    github_dir = '/Users/gor/codes/dVLogger-Project'\n",
    "clinical_outcomes_xlsx = os.path.join(github_dir, 'data/raw/Clinical outcomes_0707.xlsx')\n",
    "clinical_outcomes_npz = os.path.join(github_dir, 'data/clinical_outcomes_0707.npz')"
   ]
  },
  {
   "cell_type": "code",
   "execution_count": null,
   "metadata": {},
   "outputs": [],
   "source": [
    "df = pd.read_excel(clinical_outcomes_xlsx)\n",
    "df = df.drop(0) # drop row that contains data_type"
   ]
  },
  {
   "cell_type": "code",
   "execution_count": null,
   "metadata": {},
   "outputs": [],
   "source": [
    "temp = df['Surgical drainage volume (24hr)']\n",
    "fig = plt.figure(figsize=(14, 4))\n",
    "plt.subplot(1, 2, 1)\n",
    "pd.to_numeric(temp).hist(bins=50)\n",
    "plt.subplot(1, 2, 2)\n",
    "np.log(pd.to_numeric(temp)).hist(bins=50)"
   ]
  },
  {
   "cell_type": "code",
   "execution_count": null,
   "metadata": {},
   "outputs": [],
   "source": [
    "case = df['Case ID'].astype(np.int32)"
   ]
  },
  {
   "cell_type": "code",
   "execution_count": null,
   "metadata": {},
   "outputs": [],
   "source": [
    "y_ot = df['Operation time'].astype(np.float32)\n",
    "y_log_ot = np.log(y_ot)\n",
    "y_ot_1qrt = y_ot.quantile(0.25, interpolation='higher')\n",
    "y_ot_3qrt = y_ot.quantile(0.75, interpolation='lower')\n",
    "y_cls_ot = y_ot.copy()\n",
    "y_cls_ot[~ y_cls_ot.isnull()] = 0\n",
    "y_cls_ot[y_ot > y_ot_1qrt] = 1\n",
    "y_cls_ot[y_ot > y_ot_3qrt] = 2"
   ]
  },
  {
   "cell_type": "code",
   "execution_count": null,
   "metadata": {},
   "outputs": [],
   "source": [
    "y_hs = df['Hospital stay'].astype(np.float32)\n",
    "y_log_hs = np.log(y_hs)\n",
    "y_hs_1qrt = y_hs.quantile(0.25, interpolation='higher')\n",
    "y_hs_3qrt = y_hs.quantile(0.75, interpolation='lower')\n",
    "y_cls_hs = y_hs.copy()\n",
    "y_cls_hs[~ y_cls_hs.isnull()] = 0\n",
    "y_cls_hs[y_hs > y_hs_1qrt] = 1\n",
    "y_cls_hs[y_hs > y_hs_3qrt] = 2"
   ]
  },
  {
   "cell_type": "code",
   "execution_count": null,
   "metadata": {},
   "outputs": [],
   "source": [
    "y_ebl = df['Estimated blood loss'].astype(np.float32)\n",
    "y_log_ebl = np.log(y_ebl)\n",
    "y_ebl_1qrt = y_ebl.quantile(0.25, interpolation='higher')\n",
    "y_ebl_3qrt = y_ebl.quantile(0.75, interpolation='lower')\n",
    "y_cls_ebl = y_ebl.copy()\n",
    "y_cls_ebl[~ y_cls_ebl.isnull()] = 0\n",
    "y_cls_ebl[y_ebl > y_ebl_1qrt] = 1\n",
    "y_cls_ebl[y_ebl > y_ebl_3qrt] = 2"
   ]
  },
  {
   "cell_type": "code",
   "execution_count": null,
   "metadata": {},
   "outputs": [],
   "source": [
    "y_sdv = df['Surgical drainage volume (24hr)'].astype(np.float32)\n",
    "y_log_sdv = np.log(y_sdv)\n",
    "y_sdv_1qrt = y_sdv.quantile(0.25, interpolation='higher')\n",
    "y_sdv_3qrt = y_sdv.quantile(0.75, interpolation='lower')\n",
    "y_cls_sdv = y_sdv.copy()\n",
    "y_cls_sdv[~ y_cls_sdv.isnull()] = 0\n",
    "y_cls_sdv[y_sdv > y_sdv_1qrt] = 1\n",
    "y_cls_sdv[y_sdv > y_sdv_3qrt] = 2"
   ]
  },
  {
   "cell_type": "code",
   "execution_count": null,
   "metadata": {},
   "outputs": [],
   "source": [
    "y_dodt = df['Duration of drainage tube'].astype(np.float32)\n",
    "y_log_dodt = np.log(y_dodt)\n",
    "y_dodt_1qrt = y_dodt.quantile(0.25, interpolation='higher')\n",
    "y_dodt_3qrt = y_dodt.quantile(0.75, interpolation='lower')\n",
    "y_cls_dodt = y_dodt.copy()\n",
    "y_cls_dodt[~ y_cls_dodt.isnull()] = 0\n",
    "y_cls_dodt[y_dodt > y_dodt_1qrt] = 1\n",
    "y_cls_dodt[y_dodt > y_dodt_3qrt] = 2"
   ]
  },
  {
   "cell_type": "code",
   "execution_count": null,
   "metadata": {},
   "outputs": [],
   "source": [
    "y_fcd = df['Foley catheter duration'].astype(np.float32)\n",
    "y_log_fcd = np.log(y_fcd)\n",
    "y_fcd_1qrt = y_fcd.quantile(0.25, interpolation='higher')\n",
    "y_fcd_3qrt = y_fcd.quantile(0.75, interpolation='lower')\n",
    "y_cls_fcd = y_fcd.copy()\n",
    "y_cls_fcd[~ y_cls_fcd.isnull()] = 0\n",
    "y_cls_fcd[y_fcd > y_fcd_1qrt] = 1\n",
    "y_cls_fcd[y_fcd > y_fcd_3qrt] = 2"
   ]
  },
  {
   "cell_type": "code",
   "execution_count": null,
   "metadata": {},
   "outputs": [],
   "source": [
    "y_readmission = df['Readmission'].astype(np.int32)"
   ]
  },
  {
   "cell_type": "code",
   "execution_count": null,
   "metadata": {},
   "outputs": [],
   "source": [
    "Y = np.stack([\n",
    "    y_ot,\n",
    "    y_log_ot,\n",
    "    y_cls_ot,\n",
    "    y_hs,\n",
    "    y_log_hs,\n",
    "    y_cls_hs,\n",
    "    y_ebl,\n",
    "    y_log_ebl,\n",
    "    y_cls_ebl,\n",
    "    y_sdv,\n",
    "    y_log_sdv,\n",
    "    y_cls_sdv,\n",
    "    y_dodt,\n",
    "    y_log_dodt,\n",
    "    y_cls_dodt,\n",
    "    y_fcd,\n",
    "    y_log_fcd,\n",
    "    y_cls_fcd,\n",
    "    y_readmission],\n",
    "    axis=1\n",
    ")\n",
    "Y_case = case\n",
    "Y_col = [\n",
    "    'y_ot',\n",
    "    'y_log_ot',\n",
    "    'y_cls_ot',\n",
    "    'y_hs',\n",
    "    'y_log_hs',\n",
    "    'y_cls_hs',\n",
    "    'y_ebl',\n",
    "    'y_log_ebl',\n",
    "    'y_cls_ebl',\n",
    "    'y_sdv',\n",
    "    'y_log_sdv',\n",
    "    'y_cls_sdv',\n",
    "    'y_dodt',\n",
    "    'y_log_dodt',\n",
    "    'y_cls_dodt',\n",
    "    'y_fcd',\n",
    "    'y_log_fcd',\n",
    "    'y_cls_fcd',\n",
    "    'y_readmission'\n",
    "]\n",
    "Y_train_task_type = [\n",
    "    'regression',\n",
    "    'regression',\n",
    "    'classification',\n",
    "    'regression',\n",
    "    'regression',\n",
    "    'classification',\n",
    "    'regression',\n",
    "    'regression',\n",
    "    'classification',\n",
    "    'regression',\n",
    "    'regression',\n",
    "    'classification',\n",
    "    'regression',\n",
    "    'regression',\n",
    "    'classification',\n",
    "    'regression',\n",
    "    'regression',\n",
    "    'classification',\n",
    "    'classification'\n",
    "]"
   ]
  },
  {
   "cell_type": "code",
   "execution_count": null,
   "metadata": {},
   "outputs": [],
   "source": [
    "np.savez_compressed(clinical_outcomes_npz,\n",
    "                    Y=Y,\n",
    "                    Y_case=Y_case,\n",
    "                    Y_col=Y_col,\n",
    "                    Y_train_task_type=Y_train_task_type)"
   ]
  },
  {
   "cell_type": "code",
   "execution_count": null,
   "metadata": {},
   "outputs": [],
   "source": []
  }
 ],
 "metadata": {
  "kernelspec": {
   "display_name": "Python 3",
   "language": "python",
   "name": "python3"
  },
  "language_info": {
   "codemirror_mode": {
    "name": "ipython",
    "version": 3
   },
   "file_extension": ".py",
   "mimetype": "text/x-python",
   "name": "python",
   "nbconvert_exporter": "python",
   "pygments_lexer": "ipython3",
   "version": "3.6.2"
  }
 },
 "nbformat": 4,
 "nbformat_minor": 2
}
