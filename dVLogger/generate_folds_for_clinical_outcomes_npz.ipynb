{
 "cells": [
  {
   "cell_type": "code",
   "execution_count": null,
   "metadata": {},
   "outputs": [],
   "source": [
    "import os\n",
    "import sys\n",
    "import platform\n",
    "\n",
    "import numpy as np\n",
    "from sklearn.model_selection import ShuffleSplit, StratifiedShuffleSplit, KFold, StratifiedKFold\n",
    "\n",
    "import matplotlib.pyplot as plt\n",
    "%matplotlib inline"
   ]
  },
  {
   "cell_type": "code",
   "execution_count": null,
   "metadata": {},
   "outputs": [],
   "source": [
    "n_splits = 5 # 10\n",
    "has_dev_set = False\n",
    "\n",
    "system_name = platform.system()\n",
    "if system_name == 'Linux':\n",
    "    github_dir = '/home/gor/codes/dVLogger-Project'\n",
    "elif system_name == 'Darwin':\n",
    "    github_dir = '/Users/gor/codes/dVLogger-Project'\n",
    "features_npz = os.path.join(github_dir, 'data', 'case_sum_0706_A_1.npz')\n",
    "clinical_outcomes_npz = os.path.join(github_dir, 'data', 'clinical_outcomes_0707.npz')\n",
    "folds_clinical_outcomes_npz = os.path.join(github_dir, 'data', 'folds_clinical_outcomes_0707.npz')"
   ]
  },
  {
   "cell_type": "code",
   "execution_count": null,
   "metadata": {},
   "outputs": [],
   "source": [
    "locals().update(np.load(features_npz))\n",
    "locals().update(np.load(clinical_outcomes_npz))"
   ]
  },
  {
   "cell_type": "code",
   "execution_count": null,
   "metadata": {},
   "outputs": [],
   "source": [
    "assert(np.all(X_case == Y_case))\n",
    "case = X_case"
   ]
  },
  {
   "cell_type": "code",
   "execution_count": null,
   "metadata": {},
   "outputs": [],
   "source": [
    "Y_col"
   ]
  },
  {
   "cell_type": "code",
   "execution_count": null,
   "metadata": {},
   "outputs": [],
   "source": [
    "# regression_splitter = ShuffleSplit(n_splits=n_splits, test_size=0.15, train_size=0.7, random_state=42)\n",
    "# classification_splitter = StratifiedShuffleSplit(n_splits=n_splits, test_size=0.15, train_size=0.7, random_state=42)\n",
    "regression_splitter = KFold(n_splits=n_splits, shuffle=True, random_state=42)\n",
    "classification_splitter = StratifiedKFold(n_splits=n_splits, shuffle=True, random_state=42)"
   ]
  },
  {
   "cell_type": "code",
   "execution_count": null,
   "metadata": {},
   "outputs": [],
   "source": [
    "folds = np.empty((len(Y_col), n_splits, 3 if has_dev_set else 2), dtype=object)"
   ]
  },
  {
   "cell_type": "code",
   "execution_count": null,
   "metadata": {},
   "outputs": [],
   "source": [
    "for y_idx in range(len(Y_col)):\n",
    "    y = Y[:, y_idx]\n",
    "    non_nan_idx = np.where(~ np.isnan(y))[0]\n",
    "    y = y[non_nan_idx]\n",
    "    if has_dev_set:\n",
    "        all_idx = np.arange(len(y))\n",
    "    # y_name = Y_col[y_idx]\n",
    "    y_train_task_type = Y_train_task_type[y_idx]\n",
    "    # y_name, y.shape, y_train_task_type\n",
    "\n",
    "    if y_train_task_type == 'classification':\n",
    "        split_generator = classification_splitter.split(np.zeros(len(y)), y)\n",
    "    elif y_train_task_type == 'regression':\n",
    "        split_generator = regression_splitter.split(np.zeros(len(y)), y)\n",
    "    else:\n",
    "        raise ValueError\n",
    "\n",
    "    for split_idx in range(n_splits):\n",
    "        train_idx, test_idx = next(split_generator)\n",
    "        if has_dev_set:\n",
    "            dev_idx = np.setdiff1d(all_idx, np.concatenate([train_idx, test_idx]))\n",
    "            folds[y_idx, split_idx, :] = [non_nan_idx[train_idx], non_nan_idx[dev_idx], non_nan_idx[test_idx]]\n",
    "        else:\n",
    "            folds[y_idx, split_idx, :] = [non_nan_idx[train_idx], non_nan_idx[test_idx]]\n",
    "#         print(len(train_idx), train_idx)\n",
    "#         print(len(dev_idx), dev_idx)\n",
    "#         print(len(test_idx), test_idx)\n",
    "#         print(len(non_nan_idx), non_nan_idx)\n",
    "#         print(len(non_nan_idx[train_idx]), non_nan_idx[train_idx])\n",
    "        "
   ]
  },
  {
   "cell_type": "code",
   "execution_count": null,
   "metadata": {},
   "outputs": [],
   "source": [
    "np.savez_compressed(folds_clinical_outcomes_npz, folds=folds, has_dev_set=has_dev_set)"
   ]
  }
 ],
 "metadata": {
  "kernelspec": {
   "display_name": "Python 3",
   "language": "python",
   "name": "python3"
  },
  "language_info": {
   "codemirror_mode": {
    "name": "ipython",
    "version": 3
   },
   "file_extension": ".py",
   "mimetype": "text/x-python",
   "name": "python",
   "nbconvert_exporter": "python",
   "pygments_lexer": "ipython3",
   "version": "3.6.2"
  }
 },
 "nbformat": 4,
 "nbformat_minor": 2
}
